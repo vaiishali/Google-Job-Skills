{
  "nbformat": 4,
  "nbformat_minor": 0,
  "metadata": {
    "colab": {
      "name": "A4-vaishali-vaishali.ipynb",
      "provenance": []
    },
    "kernelspec": {
      "name": "python3",
      "display_name": "Python 3"
    }
  },
  "cells": [
    {
      "cell_type": "markdown",
      "metadata": {
        "id": "-5AQk4OwElFD"
      },
      "source": [
        "## Name : Vaishali\n",
        "## Student Number : 200417634\n",
        "## ***Email ID : vaishali61295@gmail.com***"
      ]
    },
    {
      "cell_type": "markdown",
      "metadata": {
        "id": "41RC_aOhJtRv"
      },
      "source": [
        "## Part A - Determine a Proper Model"
      ]
    },
    {
      "cell_type": "markdown",
      "metadata": {
        "id": "25gEJ95iRTvB"
      },
      "source": [
        "Using the sci-kit learn algorithm in the flow-chart given to us in the assignment question, I have inferred a few machine learning algorithms that can work with the data set I have selected. There are some techniques determined which can work well with the type of data set 'Google job skills' that we have picked. The data set has more than 50 samples with proper categories and labeled data. It also has less than a hundred thousand representations, so we have to choose from any classification algorithms. That narrowed our search to select Linear SVC, Naive Bayes, or KNeighbours classifier algorithms.\n",
        "\n",
        "\n",
        "\n",
        " So, I got started with SVM (Support Vector Machines) as it seems like it is suitable to use it for our current data set. \n",
        "It is the Support Vector Machines algorithm used here as it makes fast predictions as compared to the Naive Bayes algorithm. That also operates as a discriminative classifier, which is the hyperplane. It has an enormous margin space that divides the data sets into classes quite easily. It also offers good accuracy of test data. It converts low dimensional data to high for a better fit to train the model. That is how it converts non-linear problems into separable form. "
      ]
    },
    {
      "cell_type": "markdown",
      "metadata": {
        "id": "AK1Km3R2bpdj"
      },
      "source": [
        "It works with a kernel technique which optimally finds the hyperplane with divides the datasets into the best possible way. It increases the dimensional space of the dataset for classifying different categories and classes. The objective of SVM is to determine the maximum marginal hyperplane(MMH). That is to properly fit the data set for more useful training of it. That gives accurate test outcomes while the prediction of test data. It uses the support vectors, which are the data points closer to the hyperplane, which helps in appropriately measuring of margin space. That is how SVM (Support Vector Machines) algorithm functions."
      ]
    },
    {
      "cell_type": "markdown",
      "metadata": {
        "id": "YcmdwdLUbzDq"
      },
      "source": [
        "\n",
        "\n",
        "---\n",
        "\n"
      ]
    },
    {
      "cell_type": "markdown",
      "metadata": {
        "id": "l1ZZ8zHrRCTt"
      },
      "source": [
        "## Part B - Apply the Algorithm"
      ]
    },
    {
      "cell_type": "code",
      "metadata": {
        "id": "Hck8RK11XxB2"
      },
      "source": [
        "import numpy as np\n",
        "import pandas as pd\n",
        "import matplotlib.pyplot as plt\n",
        "%matplotlib inline\n",
        "import scipy.stats as stats\n",
        "import re\n",
        "import csv"
      ],
      "execution_count": null,
      "outputs": []
    },
    {
      "cell_type": "markdown",
      "metadata": {
        "id": "lgMNnEAieFZt"
      },
      "source": [
        "### Loading Data\n",
        "\n",
        "We will first upload the dataset."
      ]
    },
    {
      "cell_type": "code",
      "metadata": {
        "id": "JFi8yBb5Xtrf",
        "colab": {
          "resources": {
            "http://localhost:8080/nbextensions/google.colab/files.js": {
              "data": "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",
              "ok": true,
              "headers": [
                [
                  "content-type",
                  "application/javascript"
                ]
              ],
              "status": 200,
              "status_text": ""
            }
          },
          "base_uri": "https://localhost:8080/",
          "height": 74
        },
        "outputId": "686de711-0d78-4087-f6ce-3c371b4785ce"
      },
      "source": [
        "from google.colab import files\n",
        "uploaded = files.upload()"
      ],
      "execution_count": null,
      "outputs": [
        {
          "output_type": "display_data",
          "data": {
            "text/html": [
              "\n",
              "     <input type=\"file\" id=\"files-3d753312-2e58-4348-b9a6-1450b7d23add\" name=\"files[]\" multiple disabled />\n",
              "     <output id=\"result-3d753312-2e58-4348-b9a6-1450b7d23add\">\n",
              "      Upload widget is only available when the cell has been executed in the\n",
              "      current browser session. Please rerun this cell to enable.\n",
              "      </output>\n",
              "      <script src=\"/nbextensions/google.colab/files.js\"></script> "
            ],
            "text/plain": [
              "<IPython.core.display.HTML object>"
            ]
          },
          "metadata": {
            "tags": []
          }
        },
        {
          "output_type": "stream",
          "text": [
            "Saving job_skills.csv to job_skills.csv\n"
          ],
          "name": "stdout"
        }
      ]
    },
    {
      "cell_type": "code",
      "metadata": {
        "id": "YIozCFt9X6Lr"
      },
      "source": [
        "import io\n",
        "skills = pd.read_csv(io.BytesIO(uploaded['job_skills.csv']))"
      ],
      "execution_count": null,
      "outputs": []
    },
    {
      "cell_type": "code",
      "metadata": {
        "id": "wJdnN6HTmolV"
      },
      "source": [
        "skills.head(100)"
      ],
      "execution_count": null,
      "outputs": []
    },
    {
      "cell_type": "markdown",
      "metadata": {
        "id": "6GhOAg03eXeO"
      },
      "source": [
        "\n",
        "Here we will be encoding the categories of our data set to object. And then make a list of all them."
      ]
    },
    {
      "cell_type": "code",
      "metadata": {
        "id": "hMA7M_LsnWI8"
      },
      "source": [
        "encode_categories = skills.dtypes==object"
      ],
      "execution_count": null,
      "outputs": []
    },
    {
      "cell_type": "code",
      "metadata": {
        "id": "xCtPWqyesUFN"
      },
      "source": [
        "list_categories = skills.columns[encode_categories].tolist()"
      ],
      "execution_count": null,
      "outputs": []
    },
    {
      "cell_type": "code",
      "metadata": {
        "id": "_M4oEuBRfWT3",
        "colab": {
          "base_uri": "https://localhost:8080/",
          "height": 34
        },
        "outputId": "bc5497ea-c4ec-4a4d-eaab-86fbbe09ec77"
      },
      "source": [
        "skills.shape"
      ],
      "execution_count": null,
      "outputs": [
        {
          "output_type": "execute_result",
          "data": {
            "text/plain": [
              "(1250, 7)"
            ]
          },
          "metadata": {
            "tags": []
          },
          "execution_count": 14
        }
      ]
    },
    {
      "cell_type": "code",
      "metadata": {
        "id": "km5J3Hdtsjtg"
      },
      "source": [
        "from sklearn.preprocessing import LabelEncoder"
      ],
      "execution_count": null,
      "outputs": []
    },
    {
      "cell_type": "code",
      "metadata": {
        "id": "sI7wkiTQsntT"
      },
      "source": [
        "le = LabelEncoder()"
      ],
      "execution_count": null,
      "outputs": []
    },
    {
      "cell_type": "code",
      "metadata": {
        "id": "y_xW2xLTtNyO"
      },
      "source": [
        "skills['Responsibilities'] =skills['Responsibilities'].astype(\"str\")"
      ],
      "execution_count": null,
      "outputs": []
    },
    {
      "cell_type": "code",
      "metadata": {
        "id": "NPCGk7Zft4Ws"
      },
      "source": [
        "skills['Minimum Qualifications'] =skills['Minimum Qualifications'].astype(\"str\")"
      ],
      "execution_count": null,
      "outputs": []
    },
    {
      "cell_type": "code",
      "metadata": {
        "id": "R-RuzmU2uCvl"
      },
      "source": [
        "skills['Preferred Qualifications'] =skills['Preferred Qualifications'].astype(\"str\")"
      ],
      "execution_count": null,
      "outputs": []
    },
    {
      "cell_type": "code",
      "metadata": {
        "id": "uIKT3ia7sw55"
      },
      "source": [
        "skills[list_categories] = skills[list_categories].apply(lambda col: le.fit_transform(col))"
      ],
      "execution_count": null,
      "outputs": []
    },
    {
      "cell_type": "code",
      "metadata": {
        "id": "WGx3zH8xuMcF",
        "colab": {
          "base_uri": "https://localhost:8080/",
          "height": 107
        },
        "outputId": "6e20e8b9-0b73-4d52-c832-3128e07cbde0"
      },
      "source": [
        "skills.head(2)"
      ],
      "execution_count": null,
      "outputs": [
        {
          "output_type": "execute_result",
          "data": {
            "text/html": [
              "<div>\n",
              "<style scoped>\n",
              "    .dataframe tbody tr th:only-of-type {\n",
              "        vertical-align: middle;\n",
              "    }\n",
              "\n",
              "    .dataframe tbody tr th {\n",
              "        vertical-align: top;\n",
              "    }\n",
              "\n",
              "    .dataframe thead th {\n",
              "        text-align: right;\n",
              "    }\n",
              "</style>\n",
              "<table border=\"1\" class=\"dataframe\">\n",
              "  <thead>\n",
              "    <tr style=\"text-align: right;\">\n",
              "      <th></th>\n",
              "      <th>Company</th>\n",
              "      <th>Title</th>\n",
              "      <th>Category</th>\n",
              "      <th>Location</th>\n",
              "      <th>Responsibilities</th>\n",
              "      <th>Minimum Qualifications</th>\n",
              "      <th>Preferred Qualifications</th>\n",
              "    </tr>\n",
              "  </thead>\n",
              "  <tbody>\n",
              "    <tr>\n",
              "      <th>0</th>\n",
              "      <td>0</td>\n",
              "      <td>298</td>\n",
              "      <td>14</td>\n",
              "      <td>72</td>\n",
              "      <td>684</td>\n",
              "      <td>295</td>\n",
              "      <td>310</td>\n",
              "    </tr>\n",
              "    <tr>\n",
              "      <th>1</th>\n",
              "      <td>0</td>\n",
              "      <td>700</td>\n",
              "      <td>8</td>\n",
              "      <td>71</td>\n",
              "      <td>300</td>\n",
              "      <td>642</td>\n",
              "      <td>109</td>\n",
              "    </tr>\n",
              "  </tbody>\n",
              "</table>\n",
              "</div>"
            ],
            "text/plain": [
              "   Company  Title  ...  Minimum Qualifications  Preferred Qualifications\n",
              "0        0    298  ...                     295                       310\n",
              "1        0    700  ...                     642                       109\n",
              "\n",
              "[2 rows x 7 columns]"
            ]
          },
          "metadata": {
            "tags": []
          },
          "execution_count": 45
        }
      ]
    },
    {
      "cell_type": "markdown",
      "metadata": {
        "id": "Up94x9pmgYy8"
      },
      "source": [
        "Now we converted our data set which was in string format to numeric form by applying the fit transform function. To fit the selected model, Responsibilities, Minimum Qualifications, and Preferred Qualifications are transformed into numeric categories for better working on the data set."
      ]
    },
    {
      "cell_type": "code",
      "metadata": {
        "id": "ndtX8rCmW5SI"
      },
      "source": [
        "#import the necessary modules\n",
        "from sklearn.svm import SVC"
      ],
      "execution_count": null,
      "outputs": []
    },
    {
      "cell_type": "markdown",
      "metadata": {
        "id": "n7VnH7d5iAHM"
      },
      "source": [
        "We train the 'Company' column as we are making predictions by given the Title, Category, Location, Responsibilities, Minimum Qualifications, and Preferred Qualifications in which company a person will work. So Google and YouTube are the two options our test data set is predicting. And that is our target set."
      ]
    },
    {
      "cell_type": "code",
      "metadata": {
        "id": "cY03wCSbvqsI"
      },
      "source": [
        "X = skills.drop(columns = [\"Company\"])"
      ],
      "execution_count": null,
      "outputs": []
    },
    {
      "cell_type": "code",
      "metadata": {
        "id": "Ee5qAJSbxcoW"
      },
      "source": [
        "Y = skills[\"Company\"].values"
      ],
      "execution_count": null,
      "outputs": []
    },
    {
      "cell_type": "code",
      "metadata": {
        "id": "cVO2aDQix5Id"
      },
      "source": [
        "clf = SVC(gamma='auto')"
      ],
      "execution_count": null,
      "outputs": []
    },
    {
      "cell_type": "markdown",
      "metadata": {
        "id": "WJ_pZUOn1M5i"
      },
      "source": [
        "### Splitting Data\n",
        "To understand the model performance of the data set precisely, we need to split the data into training and test data. We do so by using train_test_split function. We give the arguments as a training set, test set, and test_set size. "
      ]
    },
    {
      "cell_type": "code",
      "metadata": {
        "id": "zaZ4_gq8y7lU"
      },
      "source": [
        "from sklearn.model_selection import train_test_split\n",
        "\n",
        "X_train, X_test, y_train, y_test = train_test_split(X, Y, test_size=0.2, \n",
        "random_state=1, stratify=Y)"
      ],
      "execution_count": null,
      "outputs": []
    },
    {
      "cell_type": "markdown",
      "metadata": {
        "id": "SZk692n63HOp"
      },
      "source": [
        "### Generating model\n",
        "We generate the model of Support Vector Machine (SVM) by creating an object of it after importing the SVM module. While passing the linear kernel as the argument of the SVM function. We then fit our model on the fit function by giving it the training sets and fitting on the test sets by using our predict function."
      ]
    },
    {
      "cell_type": "code",
      "metadata": {
        "id": "yj7SPxxGyb4R",
        "colab": {
          "base_uri": "https://localhost:8080/",
          "height": 84
        },
        "outputId": "20caa9a1-1add-4d1e-a81b-110690c60ed4"
      },
      "source": [
        "clf.fit(X_train, y_train)"
      ],
      "execution_count": null,
      "outputs": [
        {
          "output_type": "execute_result",
          "data": {
            "text/plain": [
              "SVC(C=1.0, cache_size=200, class_weight=None, coef0=0.0,\n",
              "    decision_function_shape='ovr', degree=3, gamma='auto', kernel='rbf',\n",
              "    max_iter=-1, probability=False, random_state=None, shrinking=True,\n",
              "    tol=0.001, verbose=False)"
            ]
          },
          "metadata": {
            "tags": []
          },
          "execution_count": 60
        }
      ]
    },
    {
      "cell_type": "code",
      "metadata": {
        "id": "TwHXcOzA-j6z"
      },
      "source": [
        "X_test"
      ],
      "execution_count": null,
      "outputs": []
    },
    {
      "cell_type": "code",
      "metadata": {
        "id": "C6gLYoJVzjRq"
      },
      "source": [
        "pr = clf.predict(X_test)"
      ],
      "execution_count": null,
      "outputs": []
    },
    {
      "cell_type": "code",
      "metadata": {
        "id": "2UGNFc31wRss",
        "colab": {
          "base_uri": "https://localhost:8080/",
          "height": 33
        },
        "outputId": "8b3a9a5b-73d2-4ee2-8311-7a7fbf1382fe"
      },
      "source": [
        "clf.score(X_test,y_test)"
      ],
      "execution_count": null,
      "outputs": [
        {
          "output_type": "execute_result",
          "data": {
            "text/plain": [
              "0.984"
            ]
          },
          "metadata": {
            "tags": []
          },
          "execution_count": 63
        }
      ]
    },
    {
      "cell_type": "markdown",
      "metadata": {
        "id": "R9OB374_-BJX"
      },
      "source": [
        "As we can analyze from the steps first load the test data and import necessary libraries. Format the data set to use in the SVM model is also essential. So for that, we encode the various categories into an object of that and convert them into list format. Then going on we convert the string format data set into numeric tabular form for us to use it by doing fit transform function the columns. So we can work well and fit the model selected for our data set. We split the data set by importing specific libraries and bifurcating it into training and test data sets. After passing the arguments to the train_test_split function, we generate the model. The model used is the SVM (Support Vector Machine).  We create the object of that and pass the linear kernel and fit the model by inputting training sets we receive the test results. We do so using predict function. We check the accuracy of the classifier and here it's (0.98) which is reasonably good."
      ]
    },
    {
      "cell_type": "markdown",
      "metadata": {
        "id": "zK_lLI6O-CuA"
      },
      "source": [
        "\n",
        "\n",
        "---\n",
        "\n"
      ]
    },
    {
      "cell_type": "markdown",
      "metadata": {
        "id": "jPe20Z6y-HfD"
      },
      "source": [
        "## Part C - Visualize and Explain Your Model"
      ]
    },
    {
      "cell_type": "code",
      "metadata": {
        "id": "uHCdggEP1PTn"
      },
      "source": [
        "from sklearn.metrics import classification_report, confusion_matrix"
      ],
      "execution_count": null,
      "outputs": []
    },
    {
      "cell_type": "code",
      "metadata": {
        "id": "iGKEBMIP1Fs7",
        "colab": {
          "base_uri": "https://localhost:8080/",
          "height": 167
        },
        "outputId": "54cd3217-4ae8-4085-88c8-8a1e1a214eaa"
      },
      "source": [
        "print(classification_report(y_test, pr))"
      ],
      "execution_count": null,
      "outputs": [
        {
          "output_type": "stream",
          "text": [
            "              precision    recall  f1-score   support\n",
            "\n",
            "           0       0.98      1.00      0.99       245\n",
            "           1       1.00      0.20      0.33         5\n",
            "\n",
            "    accuracy                           0.98       250\n",
            "   macro avg       0.99      0.60      0.66       250\n",
            "weighted avg       0.98      0.98      0.98       250\n",
            "\n"
          ],
          "name": "stdout"
        }
      ]
    },
    {
      "cell_type": "code",
      "metadata": {
        "id": "95d5n8hg3T_O"
      },
      "source": [
        "pip install scikit-plot"
      ],
      "execution_count": null,
      "outputs": []
    },
    {
      "cell_type": "code",
      "metadata": {
        "id": "qWDyObH22XOb"
      },
      "source": [
        "import scikitplot as skplt"
      ],
      "execution_count": null,
      "outputs": []
    },
    {
      "cell_type": "code",
      "metadata": {
        "id": "js493PIL36Tk",
        "colab": {
          "base_uri": "https://localhost:8080/",
          "height": 294
        },
        "outputId": "f0959974-275a-4084-b1c3-e40515a899f2"
      },
      "source": [
        "skplt.metrics.plot_confusion_matrix(y_test, pr, normalize=True)\n",
        "plt.show()"
      ],
      "execution_count": null,
      "outputs": [
        {
          "output_type": "display_data",
          "data": {
            "image/png": "[encoded data removed]",
            "text/plain": [
              "<Figure size 432x288 with 2 Axes>"
            ]
          },
          "metadata": {
            "tags": []
          }
        }
      ]
    },
    {
      "cell_type": "markdown",
      "metadata": {
        "id": "rp_z3wMqDzrC"
      },
      "source": [
        "To visualize our model and prediction results, we use the confusion matrix. We import the classification report, which assists us in examining the precision of our model and recall values. It displays the true label on the y-axis and predicts value on the x-axis. It is a normalized confusion matrix. When the test data is zero, it predicts that a hundred percent correctly and when it is zero, it identifies eighty percent of the time correctly when the answer is a zero. 'Zero' represents a Google company and \"One' as YouTube. When it has to predict a (one) none of the times it predicts it as zero and only twenty percent times the prediction is correct. We comprehend that from the graph. It takes y_test as the metrics that are the test data and X_test as the training set. "
      ]
    },
    {
      "cell_type": "markdown",
      "metadata": {
        "id": "OCWfAqEeD03K"
      },
      "source": [
        "\n",
        "\n",
        "---\n",
        "\n"
      ]
    },
    {
      "cell_type": "markdown",
      "metadata": {
        "id": "os6tP60WRMjV"
      },
      "source": [
        "## Part D - Discussion"
      ]
    },
    {
      "cell_type": "markdown",
      "metadata": {
        "id": "TrSjigxFD6q_"
      },
      "source": [
        "We have finally established a suitable model for our data set of Google Job Skills. When we examined the accuracy of the SVM model, it demonstrates that it accurately predicts the result most of the times. Its accuracy result is 0.984, which is a remarkably great fit for a model. Hundred percent of the times when it has to predict if the person given the input works in Google or not, it shows us the correct result. Except for when it has to predict if the person will be working for YouTube is eighty percent times it predicts that it is Google. And only twenty percent times it displays it correctly. So it has the power to predict well in the future that given any data set with input (Title, Category, Location, Responsibilities, Minimum Qualifications, and Preferred Qualifications) it can find whether the person can work in Google or YouTube. And that has a surprisingly high accuracy score as well."
      ]
    },
    {
      "cell_type": "markdown",
      "metadata": {
        "id": "iiM96rqUcQ5g"
      },
      "source": [
        "### Predicting Fictional Data Frame:"
      ]
    },
    {
      "cell_type": "code",
      "metadata": {
        "id": "evW5yZ9KcPUP"
      },
      "source": [
        "from pandas import DataFrame\n",
        "\n",
        "f = {'Company': ['0', '1','1','0','0', '1','1','0'] ,\n",
        "     'Title': ['233','600','234','231','232','601','231','232'],\n",
        "     'Category': ['12','7','10','11','14','6','17','13'], \n",
        "     'Location': ['70','71','72','69','75','76','77','66'],\n",
        "     'Responsibilities': ['688','400','689','680','681','401','681'\n",
        "                          ,'681'], \n",
        "     'Minimum Qualifications': ['290','640','641','640','291','642','645'\n",
        "                                ,'644'], \n",
        "     'Preferred Qualifications': ['300','108','109','107','301','104'\n",
        "                                  ,'103'\n",
        "                                  ,'105'],}\n",
        "\n",
        "fiction = pd.DataFrame(f)"
      ],
      "execution_count": null,
      "outputs": []
    },
    {
      "cell_type": "code",
      "metadata": {
        "id": "CPli2Uc8esZc",
        "colab": {
          "base_uri": "https://localhost:8080/",
          "height": 286
        },
        "outputId": "c51f6a5d-6f34-4a23-8fdb-9c16dff863cd"
      },
      "source": [
        "fiction"
      ],
      "execution_count": null,
      "outputs": [
        {
          "output_type": "execute_result",
          "data": {
            "text/html": [
              "<div>\n",
              "<style scoped>\n",
              "    .dataframe tbody tr th:only-of-type {\n",
              "        vertical-align: middle;\n",
              "    }\n",
              "\n",
              "    .dataframe tbody tr th {\n",
              "        vertical-align: top;\n",
              "    }\n",
              "\n",
              "    .dataframe thead th {\n",
              "        text-align: right;\n",
              "    }\n",
              "</style>\n",
              "<table border=\"1\" class=\"dataframe\">\n",
              "  <thead>\n",
              "    <tr style=\"text-align: right;\">\n",
              "      <th></th>\n",
              "      <th>Company</th>\n",
              "      <th>Title</th>\n",
              "      <th>Category</th>\n",
              "      <th>Location</th>\n",
              "      <th>Responsibilities</th>\n",
              "      <th>Minimum Qualifications</th>\n",
              "      <th>Preferred Qualifications</th>\n",
              "    </tr>\n",
              "  </thead>\n",
              "  <tbody>\n",
              "    <tr>\n",
              "      <th>0</th>\n",
              "      <td>0</td>\n",
              "      <td>233</td>\n",
              "      <td>12</td>\n",
              "      <td>70</td>\n",
              "      <td>688</td>\n",
              "      <td>290</td>\n",
              "      <td>300</td>\n",
              "    </tr>\n",
              "    <tr>\n",
              "      <th>1</th>\n",
              "      <td>1</td>\n",
              "      <td>600</td>\n",
              "      <td>7</td>\n",
              "      <td>71</td>\n",
              "      <td>400</td>\n",
              "      <td>640</td>\n",
              "      <td>108</td>\n",
              "    </tr>\n",
              "    <tr>\n",
              "      <th>2</th>\n",
              "      <td>1</td>\n",
              "      <td>234</td>\n",
              "      <td>10</td>\n",
              "      <td>72</td>\n",
              "      <td>689</td>\n",
              "      <td>641</td>\n",
              "      <td>109</td>\n",
              "    </tr>\n",
              "    <tr>\n",
              "      <th>3</th>\n",
              "      <td>0</td>\n",
              "      <td>231</td>\n",
              "      <td>11</td>\n",
              "      <td>69</td>\n",
              "      <td>680</td>\n",
              "      <td>640</td>\n",
              "      <td>107</td>\n",
              "    </tr>\n",
              "    <tr>\n",
              "      <th>4</th>\n",
              "      <td>0</td>\n",
              "      <td>232</td>\n",
              "      <td>14</td>\n",
              "      <td>75</td>\n",
              "      <td>681</td>\n",
              "      <td>291</td>\n",
              "      <td>301</td>\n",
              "    </tr>\n",
              "    <tr>\n",
              "      <th>5</th>\n",
              "      <td>1</td>\n",
              "      <td>601</td>\n",
              "      <td>6</td>\n",
              "      <td>76</td>\n",
              "      <td>401</td>\n",
              "      <td>642</td>\n",
              "      <td>104</td>\n",
              "    </tr>\n",
              "    <tr>\n",
              "      <th>6</th>\n",
              "      <td>1</td>\n",
              "      <td>231</td>\n",
              "      <td>17</td>\n",
              "      <td>77</td>\n",
              "      <td>681</td>\n",
              "      <td>645</td>\n",
              "      <td>103</td>\n",
              "    </tr>\n",
              "    <tr>\n",
              "      <th>7</th>\n",
              "      <td>0</td>\n",
              "      <td>232</td>\n",
              "      <td>13</td>\n",
              "      <td>66</td>\n",
              "      <td>681</td>\n",
              "      <td>644</td>\n",
              "      <td>105</td>\n",
              "    </tr>\n",
              "  </tbody>\n",
              "</table>\n",
              "</div>"
            ],
            "text/plain": [
              "  Company Title  ... Minimum Qualifications Preferred Qualifications\n",
              "0       0   233  ...                    290                      300\n",
              "1       1   600  ...                    640                      108\n",
              "2       1   234  ...                    641                      109\n",
              "3       0   231  ...                    640                      107\n",
              "4       0   232  ...                    291                      301\n",
              "5       1   601  ...                    642                      104\n",
              "6       1   231  ...                    645                      103\n",
              "7       0   232  ...                    644                      105\n",
              "\n",
              "[8 rows x 7 columns]"
            ]
          },
          "metadata": {
            "tags": []
          },
          "execution_count": 38
        }
      ]
    },
    {
      "cell_type": "code",
      "metadata": {
        "id": "AMpzeL1qeu-A"
      },
      "source": [
        "from sklearn.svm import SVC"
      ],
      "execution_count": null,
      "outputs": []
    },
    {
      "cell_type": "code",
      "metadata": {
        "id": "giEH5_2RitRF"
      },
      "source": [
        "XX = fiction.drop(columns = [\"Company\"])"
      ],
      "execution_count": null,
      "outputs": []
    },
    {
      "cell_type": "code",
      "metadata": {
        "id": "pt67lQ_Bi6Ax"
      },
      "source": [
        "YY = fiction[\"Company\"].values"
      ],
      "execution_count": null,
      "outputs": []
    },
    {
      "cell_type": "code",
      "metadata": {
        "id": "yUZwmmdbi_5C"
      },
      "source": [
        "clff = SVC(gamma='auto')"
      ],
      "execution_count": null,
      "outputs": []
    },
    {
      "cell_type": "code",
      "metadata": {
        "id": "kSQn9yJ4jHbS"
      },
      "source": [
        "from sklearn.model_selection import train_test_split\n",
        "\n",
        "XX_train, XX_test, yy_train, yy_test = train_test_split(XX, YY, \n",
        "                                                        test_size=0.3, random_state=1, stratify=YY)"
      ],
      "execution_count": null,
      "outputs": []
    },
    {
      "cell_type": "code",
      "metadata": {
        "id": "8L-O9eQRjRS9",
        "colab": {
          "base_uri": "https://localhost:8080/",
          "height": 84
        },
        "outputId": "4e7627cf-8906-41b1-b674-10cc3d35fa5c"
      },
      "source": [
        "clff.fit(XX_train, yy_train)"
      ],
      "execution_count": null,
      "outputs": [
        {
          "output_type": "execute_result",
          "data": {
            "text/plain": [
              "SVC(C=1.0, cache_size=200, class_weight=None, coef0=0.0,\n",
              "    decision_function_shape='ovr', degree=3, gamma='auto', kernel='rbf',\n",
              "    max_iter=-1, probability=False, random_state=None, shrinking=True,\n",
              "    tol=0.001, verbose=False)"
            ]
          },
          "metadata": {
            "tags": []
          },
          "execution_count": 44
        }
      ]
    },
    {
      "cell_type": "code",
      "metadata": {
        "id": "Ys0U56eEjakQ",
        "colab": {
          "base_uri": "https://localhost:8080/",
          "height": 137
        },
        "outputId": "9702eb32-d169-44ba-e170-ad85fed67571"
      },
      "source": [
        "XX_test"
      ],
      "execution_count": null,
      "outputs": [
        {
          "output_type": "execute_result",
          "data": {
            "text/html": [
              "<div>\n",
              "<style scoped>\n",
              "    .dataframe tbody tr th:only-of-type {\n",
              "        vertical-align: middle;\n",
              "    }\n",
              "\n",
              "    .dataframe tbody tr th {\n",
              "        vertical-align: top;\n",
              "    }\n",
              "\n",
              "    .dataframe thead th {\n",
              "        text-align: right;\n",
              "    }\n",
              "</style>\n",
              "<table border=\"1\" class=\"dataframe\">\n",
              "  <thead>\n",
              "    <tr style=\"text-align: right;\">\n",
              "      <th></th>\n",
              "      <th>Title</th>\n",
              "      <th>Category</th>\n",
              "      <th>Location</th>\n",
              "      <th>Responsibilities</th>\n",
              "      <th>Minimum Qualifications</th>\n",
              "      <th>Preferred Qualifications</th>\n",
              "    </tr>\n",
              "  </thead>\n",
              "  <tbody>\n",
              "    <tr>\n",
              "      <th>6</th>\n",
              "      <td>231</td>\n",
              "      <td>17</td>\n",
              "      <td>77</td>\n",
              "      <td>681</td>\n",
              "      <td>645</td>\n",
              "      <td>103</td>\n",
              "    </tr>\n",
              "    <tr>\n",
              "      <th>7</th>\n",
              "      <td>232</td>\n",
              "      <td>13</td>\n",
              "      <td>66</td>\n",
              "      <td>681</td>\n",
              "      <td>644</td>\n",
              "      <td>105</td>\n",
              "    </tr>\n",
              "    <tr>\n",
              "      <th>2</th>\n",
              "      <td>234</td>\n",
              "      <td>10</td>\n",
              "      <td>72</td>\n",
              "      <td>689</td>\n",
              "      <td>641</td>\n",
              "      <td>109</td>\n",
              "    </tr>\n",
              "  </tbody>\n",
              "</table>\n",
              "</div>"
            ],
            "text/plain": [
              "  Title Category  ... Minimum Qualifications Preferred Qualifications\n",
              "6   231       17  ...                    645                      103\n",
              "7   232       13  ...                    644                      105\n",
              "2   234       10  ...                    641                      109\n",
              "\n",
              "[3 rows x 6 columns]"
            ]
          },
          "metadata": {
            "tags": []
          },
          "execution_count": 45
        }
      ]
    },
    {
      "cell_type": "code",
      "metadata": {
        "id": "AotC7992kAKk"
      },
      "source": [
        "prr = clff.predict(XX_test)"
      ],
      "execution_count": null,
      "outputs": []
    },
    {
      "cell_type": "code",
      "metadata": {
        "id": "0mFfnQB8j3LI",
        "colab": {
          "base_uri": "https://localhost:8080/",
          "height": 33
        },
        "outputId": "a835e89c-900c-4301-e496-dd24237f8de0"
      },
      "source": [
        "clff.score(XX_test,yy_test)"
      ],
      "execution_count": null,
      "outputs": [
        {
          "output_type": "execute_result",
          "data": {
            "text/plain": [
              "0.3333333333333333"
            ]
          },
          "metadata": {
            "tags": []
          },
          "execution_count": 47
        }
      ]
    },
    {
      "cell_type": "markdown",
      "metadata": {
        "id": "xmGJk4l5peSD"
      },
      "source": [
        "The model that we choose for our fictional instance does not give the desired outcome as it gave in the original data set. The prediction score is poor. It is way below 0.5 which is not a good score at all. It reveals that the model is failing for our presented fictional data set. If a few modifications are performed to the data, it can improve its prediction and accuracy score. As the data set given here is not able to train the model and give us the desired test results.\n",
        "\n",
        "\n",
        "\n",
        "The accuracy of the original data set seems to fail when there is a large dataset as it takes a lot of time to train it. As it overlaps the classes so cannot make satisfying classification by the hyperplane. And SVM is also sensitive to the type of kernel used as it may not be able to convert low dimensional data into a high one."
      ]
    },
    {
      "cell_type": "markdown",
      "metadata": {
        "id": "jaJG_hbHKzr-"
      },
      "source": [
        "\n",
        "\n",
        "---\n",
        "\n"
      ]
    },
    {
      "cell_type": "markdown",
      "metadata": {
        "id": "kBjfKnreRQ-u"
      },
      "source": [
        "## Part E - Summary"
      ]
    },
    {
      "cell_type": "markdown",
      "metadata": {
        "id": "9lGSeecrGWat"
      },
      "source": [
        "From the analysis of the model in assignment 3, our goal was to develop a model. I selected the data set of my choice. I successfully implemented the model that is SVM (Support Vector Machine) and performed some transformation on my data set for proper training and testing it. I have to predict that given the inputs if my model can predict whether a person can get a job at Google or YouTube. The inputs being Title, Category, Location, Responsibilities, Minimum Qualifications, and Preferred Qualifications. 0 indicates Google and 1 YouTube. We formatted the string values to numeric data to better fit the model and work properly on it. We also plotted a confusion matrix plot to visualize and present it in a fabulous way for the audience. Users can quickly identify the trend with the plot. The accuracy score of the predict function is quite precise  (0.984)."
      ]
    },
    {
      "cell_type": "markdown",
      "metadata": {
        "id": "KnqQnlssP6uj"
      },
      "source": [
        "Using some other analysis to model our data set like Naive Bayes or KNeighbours Classifier could have considered. Through the study, Naive Bayes would have not a good option as SVM classifier provides high accuracy score and faster prediction as compared to the Naive Bayes algorithm. SVM uses the training points to make a decision it uses less memory. \n",
        "\n",
        "\n",
        "We can create new knowledge from our analysis. When the model is given data set according to the categories of our data it can predict the results. In this scenario, it predicts that given the input if the person will get a job in which company. Here, The options are Google and YouTube. We can do even more analysis by formatting and modeling data accordingly."
      ]
    },
    {
      "cell_type": "markdown",
      "metadata": {
        "id": "ta8ODSH1K1O_"
      },
      "source": [
        "\n",
        "\n",
        "---\n",
        "\n"
      ]
    },
    {
      "cell_type": "markdown",
      "metadata": {
        "id": "XPtzXLGTYfAC"
      },
      "source": [
        "## References"
      ]
    },
    {
      "cell_type": "markdown",
      "metadata": {
        "id": "BXYXVZb3YhMv"
      },
      "source": [
        "1. Dataquest. (2019). Scikit-learn Tutorial: Machine Learning in Python – Dataquest. [online] Available at: https://www.dataquest.io/blog/sci-kit-learn-tutorial/ [Accessed 15 Aug. 2019].\n",
        "\n",
        "2. DataCamp Community. (2019). Support Vector Machines in Scikit-learn. [online] Available at: https://www.datacamp.com/community/tutorials/svm-classification-scikit-learn-python [Accessed 20 Aug. 2019].\n",
        "\n",
        "3. Scikit-learn.org. (2019). sklearn.svm.SVC — scikit-learn 0.21.3 documentation. [online] Available at: https://scikit-learn.org/stable/modules/generated/sklearn.svm.SVC.html [Accessed 20 Aug. 2019]."
      ]
    }
  ]
}